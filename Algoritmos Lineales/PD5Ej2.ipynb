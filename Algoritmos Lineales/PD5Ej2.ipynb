{
 "cells": [
  {
   "cell_type": "code",
   "execution_count": 19,
   "source": [
    "import matplotlib\r\n",
    "import matplotlib.pyplot as plt\r\n",
    "import pandas as pd\r\n",
    "from sklearn.discriminant_analysis import LinearDiscriminantAnalysis\r\n",
    "from sklearn.metrics import confusion_matrix, classification_report\r\n",
    "from sklearn.model_selection import train_test_split\r\n",
    "from sklearn.preprocessing import LabelEncoder\r\n",
    "import seaborn as sns"
   ],
   "outputs": [],
   "metadata": {}
  },
  {
   "cell_type": "code",
   "execution_count": 2,
   "source": [
    "input_file = \"sports_Training.csv\"\r\n",
    "df = pd.read_csv(input_file, header=0)\r\n",
    "df.head()"
   ],
   "outputs": [
    {
     "output_type": "execute_result",
     "data": {
      "text/html": [
       "<div>\n",
       "<style scoped>\n",
       "    .dataframe tbody tr th:only-of-type {\n",
       "        vertical-align: middle;\n",
       "    }\n",
       "\n",
       "    .dataframe tbody tr th {\n",
       "        vertical-align: top;\n",
       "    }\n",
       "\n",
       "    .dataframe thead th {\n",
       "        text-align: right;\n",
       "    }\n",
       "</style>\n",
       "<table border=\"1\" class=\"dataframe\">\n",
       "  <thead>\n",
       "    <tr style=\"text-align: right;\">\n",
       "      <th></th>\n",
       "      <th>Edad</th>\n",
       "      <th>Fuerza</th>\n",
       "      <th>Velocidad</th>\n",
       "      <th>Lesiones</th>\n",
       "      <th>Vision</th>\n",
       "      <th>Resistencia</th>\n",
       "      <th>Agilidad</th>\n",
       "      <th>CapacidadDecision</th>\n",
       "      <th>DeportePrimario</th>\n",
       "    </tr>\n",
       "  </thead>\n",
       "  <tbody>\n",
       "    <tr>\n",
       "      <th>0</th>\n",
       "      <td>15.1</td>\n",
       "      <td>3</td>\n",
       "      <td>2</td>\n",
       "      <td>1</td>\n",
       "      <td>2</td>\n",
       "      <td>3</td>\n",
       "      <td>29</td>\n",
       "      <td>4</td>\n",
       "      <td>Futbol</td>\n",
       "    </tr>\n",
       "    <tr>\n",
       "      <th>1</th>\n",
       "      <td>15.4</td>\n",
       "      <td>3</td>\n",
       "      <td>2</td>\n",
       "      <td>0</td>\n",
       "      <td>3</td>\n",
       "      <td>5</td>\n",
       "      <td>18</td>\n",
       "      <td>8</td>\n",
       "      <td>Rugby</td>\n",
       "    </tr>\n",
       "    <tr>\n",
       "      <th>2</th>\n",
       "      <td>13.6</td>\n",
       "      <td>5</td>\n",
       "      <td>5</td>\n",
       "      <td>0</td>\n",
       "      <td>2</td>\n",
       "      <td>5</td>\n",
       "      <td>27</td>\n",
       "      <td>28</td>\n",
       "      <td>Voleibol</td>\n",
       "    </tr>\n",
       "    <tr>\n",
       "      <th>3</th>\n",
       "      <td>18.8</td>\n",
       "      <td>5</td>\n",
       "      <td>1</td>\n",
       "      <td>1</td>\n",
       "      <td>1</td>\n",
       "      <td>3</td>\n",
       "      <td>48</td>\n",
       "      <td>36</td>\n",
       "      <td>Voleibol</td>\n",
       "    </tr>\n",
       "    <tr>\n",
       "      <th>4</th>\n",
       "      <td>16.1</td>\n",
       "      <td>3</td>\n",
       "      <td>1</td>\n",
       "      <td>0</td>\n",
       "      <td>3</td>\n",
       "      <td>3</td>\n",
       "      <td>38</td>\n",
       "      <td>29</td>\n",
       "      <td>Futbol</td>\n",
       "    </tr>\n",
       "  </tbody>\n",
       "</table>\n",
       "</div>"
      ],
      "text/plain": [
       "   Edad  Fuerza  Velocidad  Lesiones  Vision  Resistencia  Agilidad  \\\n",
       "0  15.1       3          2         1       2            3        29   \n",
       "1  15.4       3          2         0       3            5        18   \n",
       "2  13.6       5          5         0       2            5        27   \n",
       "3  18.8       5          1         1       1            3        48   \n",
       "4  16.1       3          1         0       3            3        38   \n",
       "\n",
       "   CapacidadDecision DeportePrimario  \n",
       "0                  4          Futbol  \n",
       "1                  8           Rugby  \n",
       "2                 28        Voleibol  \n",
       "3                 36        Voleibol  \n",
       "4                 29          Futbol  "
      ]
     },
     "metadata": {},
     "execution_count": 2
    }
   ],
   "metadata": {}
  },
  {
   "cell_type": "code",
   "execution_count": 3,
   "source": [
    "data = df[(df['CapacidadDecision'] >= 3) &\r\n",
    " (df['CapacidadDecision'] <= 100)]\r\n",
    "data.head()\r\n"
   ],
   "outputs": [
    {
     "output_type": "execute_result",
     "data": {
      "text/html": [
       "<div>\n",
       "<style scoped>\n",
       "    .dataframe tbody tr th:only-of-type {\n",
       "        vertical-align: middle;\n",
       "    }\n",
       "\n",
       "    .dataframe tbody tr th {\n",
       "        vertical-align: top;\n",
       "    }\n",
       "\n",
       "    .dataframe thead th {\n",
       "        text-align: right;\n",
       "    }\n",
       "</style>\n",
       "<table border=\"1\" class=\"dataframe\">\n",
       "  <thead>\n",
       "    <tr style=\"text-align: right;\">\n",
       "      <th></th>\n",
       "      <th>Edad</th>\n",
       "      <th>Fuerza</th>\n",
       "      <th>Velocidad</th>\n",
       "      <th>Lesiones</th>\n",
       "      <th>Vision</th>\n",
       "      <th>Resistencia</th>\n",
       "      <th>Agilidad</th>\n",
       "      <th>CapacidadDecision</th>\n",
       "      <th>DeportePrimario</th>\n",
       "    </tr>\n",
       "  </thead>\n",
       "  <tbody>\n",
       "    <tr>\n",
       "      <th>0</th>\n",
       "      <td>15.1</td>\n",
       "      <td>3</td>\n",
       "      <td>2</td>\n",
       "      <td>1</td>\n",
       "      <td>2</td>\n",
       "      <td>3</td>\n",
       "      <td>29</td>\n",
       "      <td>4</td>\n",
       "      <td>Futbol</td>\n",
       "    </tr>\n",
       "    <tr>\n",
       "      <th>1</th>\n",
       "      <td>15.4</td>\n",
       "      <td>3</td>\n",
       "      <td>2</td>\n",
       "      <td>0</td>\n",
       "      <td>3</td>\n",
       "      <td>5</td>\n",
       "      <td>18</td>\n",
       "      <td>8</td>\n",
       "      <td>Rugby</td>\n",
       "    </tr>\n",
       "    <tr>\n",
       "      <th>2</th>\n",
       "      <td>13.6</td>\n",
       "      <td>5</td>\n",
       "      <td>5</td>\n",
       "      <td>0</td>\n",
       "      <td>2</td>\n",
       "      <td>5</td>\n",
       "      <td>27</td>\n",
       "      <td>28</td>\n",
       "      <td>Voleibol</td>\n",
       "    </tr>\n",
       "    <tr>\n",
       "      <th>3</th>\n",
       "      <td>18.8</td>\n",
       "      <td>5</td>\n",
       "      <td>1</td>\n",
       "      <td>1</td>\n",
       "      <td>1</td>\n",
       "      <td>3</td>\n",
       "      <td>48</td>\n",
       "      <td>36</td>\n",
       "      <td>Voleibol</td>\n",
       "    </tr>\n",
       "    <tr>\n",
       "      <th>4</th>\n",
       "      <td>16.1</td>\n",
       "      <td>3</td>\n",
       "      <td>1</td>\n",
       "      <td>0</td>\n",
       "      <td>3</td>\n",
       "      <td>3</td>\n",
       "      <td>38</td>\n",
       "      <td>29</td>\n",
       "      <td>Futbol</td>\n",
       "    </tr>\n",
       "  </tbody>\n",
       "</table>\n",
       "</div>"
      ],
      "text/plain": [
       "   Edad  Fuerza  Velocidad  Lesiones  Vision  Resistencia  Agilidad  \\\n",
       "0  15.1       3          2         1       2            3        29   \n",
       "1  15.4       3          2         0       3            5        18   \n",
       "2  13.6       5          5         0       2            5        27   \n",
       "3  18.8       5          1         1       1            3        48   \n",
       "4  16.1       3          1         0       3            3        38   \n",
       "\n",
       "   CapacidadDecision DeportePrimario  \n",
       "0                  4          Futbol  \n",
       "1                  8           Rugby  \n",
       "2                 28        Voleibol  \n",
       "3                 36        Voleibol  \n",
       "4                 29          Futbol  "
      ]
     },
     "metadata": {},
     "execution_count": 3
    }
   ],
   "metadata": {}
  },
  {
   "cell_type": "code",
   "execution_count": 6,
   "source": [
    "data.describe()"
   ],
   "outputs": [
    {
     "output_type": "execute_result",
     "data": {
      "text/html": [
       "<div>\n",
       "<style scoped>\n",
       "    .dataframe tbody tr th:only-of-type {\n",
       "        vertical-align: middle;\n",
       "    }\n",
       "\n",
       "    .dataframe tbody tr th {\n",
       "        vertical-align: top;\n",
       "    }\n",
       "\n",
       "    .dataframe thead th {\n",
       "        text-align: right;\n",
       "    }\n",
       "</style>\n",
       "<table border=\"1\" class=\"dataframe\">\n",
       "  <thead>\n",
       "    <tr style=\"text-align: right;\">\n",
       "      <th></th>\n",
       "      <th>Edad</th>\n",
       "      <th>Fuerza</th>\n",
       "      <th>Velocidad</th>\n",
       "      <th>Lesiones</th>\n",
       "      <th>Vision</th>\n",
       "      <th>Resistencia</th>\n",
       "      <th>Agilidad</th>\n",
       "      <th>CapacidadDecision</th>\n",
       "    </tr>\n",
       "  </thead>\n",
       "  <tbody>\n",
       "    <tr>\n",
       "      <th>count</th>\n",
       "      <td>482.000000</td>\n",
       "      <td>482.000000</td>\n",
       "      <td>482.000000</td>\n",
       "      <td>482.000000</td>\n",
       "      <td>482.000000</td>\n",
       "      <td>482.000000</td>\n",
       "      <td>482.000000</td>\n",
       "      <td>482.000000</td>\n",
       "    </tr>\n",
       "    <tr>\n",
       "      <th>mean</th>\n",
       "      <td>15.954564</td>\n",
       "      <td>3.500000</td>\n",
       "      <td>1.983402</td>\n",
       "      <td>0.639004</td>\n",
       "      <td>1.692946</td>\n",
       "      <td>3.856846</td>\n",
       "      <td>33.680498</td>\n",
       "      <td>29.157676</td>\n",
       "    </tr>\n",
       "    <tr>\n",
       "      <th>std</th>\n",
       "      <td>1.817320</td>\n",
       "      <td>1.460854</td>\n",
       "      <td>1.505269</td>\n",
       "      <td>0.480788</td>\n",
       "      <td>1.134010</td>\n",
       "      <td>1.331782</td>\n",
       "      <td>12.523973</td>\n",
       "      <td>19.477265</td>\n",
       "    </tr>\n",
       "    <tr>\n",
       "      <th>min</th>\n",
       "      <td>13.000000</td>\n",
       "      <td>0.000000</td>\n",
       "      <td>0.000000</td>\n",
       "      <td>0.000000</td>\n",
       "      <td>0.000000</td>\n",
       "      <td>0.000000</td>\n",
       "      <td>13.000000</td>\n",
       "      <td>3.000000</td>\n",
       "    </tr>\n",
       "    <tr>\n",
       "      <th>25%</th>\n",
       "      <td>14.300000</td>\n",
       "      <td>3.000000</td>\n",
       "      <td>1.000000</td>\n",
       "      <td>0.000000</td>\n",
       "      <td>1.000000</td>\n",
       "      <td>3.000000</td>\n",
       "      <td>23.000000</td>\n",
       "      <td>11.000000</td>\n",
       "    </tr>\n",
       "    <tr>\n",
       "      <th>50%</th>\n",
       "      <td>15.900000</td>\n",
       "      <td>4.000000</td>\n",
       "      <td>1.000000</td>\n",
       "      <td>1.000000</td>\n",
       "      <td>2.000000</td>\n",
       "      <td>5.000000</td>\n",
       "      <td>31.500000</td>\n",
       "      <td>29.000000</td>\n",
       "    </tr>\n",
       "    <tr>\n",
       "      <th>75%</th>\n",
       "      <td>17.600000</td>\n",
       "      <td>4.000000</td>\n",
       "      <td>2.000000</td>\n",
       "      <td>1.000000</td>\n",
       "      <td>3.000000</td>\n",
       "      <td>5.000000</td>\n",
       "      <td>42.750000</td>\n",
       "      <td>40.000000</td>\n",
       "    </tr>\n",
       "    <tr>\n",
       "      <th>max</th>\n",
       "      <td>19.000000</td>\n",
       "      <td>7.000000</td>\n",
       "      <td>6.000000</td>\n",
       "      <td>1.000000</td>\n",
       "      <td>3.000000</td>\n",
       "      <td>6.000000</td>\n",
       "      <td>80.000000</td>\n",
       "      <td>100.000000</td>\n",
       "    </tr>\n",
       "  </tbody>\n",
       "</table>\n",
       "</div>"
      ],
      "text/plain": [
       "             Edad      Fuerza   Velocidad    Lesiones      Vision  \\\n",
       "count  482.000000  482.000000  482.000000  482.000000  482.000000   \n",
       "mean    15.954564    3.500000    1.983402    0.639004    1.692946   \n",
       "std      1.817320    1.460854    1.505269    0.480788    1.134010   \n",
       "min     13.000000    0.000000    0.000000    0.000000    0.000000   \n",
       "25%     14.300000    3.000000    1.000000    0.000000    1.000000   \n",
       "50%     15.900000    4.000000    1.000000    1.000000    2.000000   \n",
       "75%     17.600000    4.000000    2.000000    1.000000    3.000000   \n",
       "max     19.000000    7.000000    6.000000    1.000000    3.000000   \n",
       "\n",
       "       Resistencia    Agilidad  CapacidadDecision  \n",
       "count   482.000000  482.000000         482.000000  \n",
       "mean      3.856846   33.680498          29.157676  \n",
       "std       1.331782   12.523973          19.477265  \n",
       "min       0.000000   13.000000           3.000000  \n",
       "25%       3.000000   23.000000          11.000000  \n",
       "50%       5.000000   31.500000          29.000000  \n",
       "75%       5.000000   42.750000          40.000000  \n",
       "max       6.000000   80.000000         100.000000  "
      ]
     },
     "metadata": {},
     "execution_count": 6
    }
   ],
   "metadata": {}
  },
  {
   "cell_type": "code",
   "execution_count": 7,
   "source": [
    "data.dtypes"
   ],
   "outputs": [
    {
     "output_type": "execute_result",
     "data": {
      "text/plain": [
       "Edad                 float64\n",
       "Fuerza                 int64\n",
       "Velocidad              int64\n",
       "Lesiones               int64\n",
       "Vision                 int64\n",
       "Resistencia            int64\n",
       "Agilidad               int64\n",
       "CapacidadDecision      int64\n",
       "DeportePrimario       object\n",
       "dtype: object"
      ]
     },
     "metadata": {},
     "execution_count": 7
    }
   ],
   "metadata": {}
  },
  {
   "cell_type": "code",
   "execution_count": 10,
   "source": [
    "y = data[\"DeportePrimario\"]\r\n",
    "le = LabelEncoder()\r\n",
    "y_encoded = le.fit_transform(y)"
   ],
   "outputs": [],
   "metadata": {}
  },
  {
   "cell_type": "code",
   "execution_count": 12,
   "source": [
    "X = data.drop(columns=['DeportePrimario']).values\r\n",
    "type(X)"
   ],
   "outputs": [
    {
     "output_type": "execute_result",
     "data": {
      "text/plain": [
       "numpy.ndarray"
      ]
     },
     "metadata": {},
     "execution_count": 12
    }
   ],
   "metadata": {}
  },
  {
   "cell_type": "code",
   "execution_count": 13,
   "source": [
    "type(y_encoded)"
   ],
   "outputs": [
    {
     "output_type": "execute_result",
     "data": {
      "text/plain": [
       "numpy.ndarray"
      ]
     },
     "metadata": {},
     "execution_count": 13
    }
   ],
   "metadata": {}
  },
  {
   "cell_type": "code",
   "execution_count": 14,
   "source": [
    "train_X, test_X, train_y, test_y = train_test_split(X, y_encoded, test_size=0.25,\r\n",
    "random_state=41, shuffle=True)"
   ],
   "outputs": [],
   "metadata": {}
  },
  {
   "cell_type": "code",
   "execution_count": 15,
   "source": [
    "lda = LinearDiscriminantAnalysis()\r\n",
    "lda = lda.fit(train_X, train_y)"
   ],
   "outputs": [],
   "metadata": {}
  },
  {
   "cell_type": "code",
   "execution_count": 48,
   "source": [
    "type(test_X)"
   ],
   "outputs": [
    {
     "output_type": "execute_result",
     "data": {
      "text/plain": [
       "numpy.ndarray"
      ]
     },
     "metadata": {},
     "execution_count": 48
    }
   ],
   "metadata": {}
  },
  {
   "cell_type": "code",
   "execution_count": 16,
   "source": [
    "y_pred = lda.predict(test_X)\r\n",
    "print(\"Predicted vs Expected\")\r\n",
    "print(y_pred)\r\n",
    "print(test_y)"
   ],
   "outputs": [
    {
     "output_type": "stream",
     "name": "stdout",
     "text": [
      "Predicted vs Expected\n",
      "[3 1 2 1 1 0 0 0 1 2 2 2 1 3 3 0 2 3 2 3 3 2 1 1 2 3 0 0 1 3 3 1 1 2 2 2 2\n",
      " 1 1 1 1 2 3 3 1 1 3 1 1 1 1 2 1 1 1 1 2 3 3 1 2 1 0 1 2 1 1 2 1 1 3 2 2 2\n",
      " 2 1 0 1 2 1 1 3 1 1 1 1 1 2 1 2 1 2 0 3 1 1 1 2 2 3 2 0 2 1 1 1 1 3 1 0 1\n",
      " 1 3 1 2 3 1 1 3 1 3]\n",
      "[1 2 2 1 3 3 2 2 1 1 2 2 1 1 3 2 2 0 2 3 1 2 2 0 2 0 1 0 1 3 0 0 2 1 0 1 2\n",
      " 1 3 3 3 2 0 3 1 1 1 3 3 1 1 3 3 1 3 1 0 2 3 2 1 1 0 0 3 1 1 3 2 0 0 1 1 2\n",
      " 0 3 1 1 0 0 2 0 1 3 3 1 2 0 3 2 2 2 0 0 2 3 1 1 2 2 2 0 1 3 2 1 1 1 1 3 2\n",
      " 1 3 0 2 1 1 2 3 1 3]\n"
     ]
    }
   ],
   "metadata": {}
  },
  {
   "cell_type": "code",
   "execution_count": 17,
   "source": [
    "print(classification_report(test_y, y_pred, digits=3))"
   ],
   "outputs": [
    {
     "output_type": "stream",
     "name": "stdout",
     "text": [
      "              precision    recall  f1-score   support\n",
      "\n",
      "           0      0.364     0.182     0.242        22\n",
      "           1      0.429     0.600     0.500        40\n",
      "           2      0.484     0.469     0.476        32\n",
      "           3      0.348     0.296     0.320        27\n",
      "\n",
      "    accuracy                          0.421       121\n",
      "   macro avg      0.406     0.387     0.385       121\n",
      "weighted avg      0.413     0.421     0.407       121\n",
      "\n"
     ]
    }
   ],
   "metadata": {}
  },
  {
   "cell_type": "code",
   "execution_count": 18,
   "source": [
    "print(confusion_matrix(test_y, y_pred))"
   ],
   "outputs": [
    {
     "output_type": "stream",
     "name": "stdout",
     "text": [
      "[[ 4  6  5  7]\n",
      " [ 2 24  8  6]\n",
      " [ 3 12 15  2]\n",
      " [ 2 14  3  8]]\n"
     ]
    }
   ],
   "metadata": {}
  },
  {
   "cell_type": "code",
   "execution_count": 33,
   "source": [
    "test_y_inv = le.inverse_transform(test_y)\r\n",
    "y_pred_inv = le.inverse_transform(y_pred)\r\n",
    "categories = ['Futbol', 'Rugby', \"Basketball\",'Voleibol']\r\n",
    "cf_matrix = confusion_matrix(test_y_inv, y_pred_inv)\r\n",
    "sns.heatmap(cf_matrix, annot=True,cmap='Blues', xticklabels=categories, yticklabels=categories)\r\n"
   ],
   "outputs": [
    {
     "output_type": "execute_result",
     "data": {
      "text/plain": [
       "<matplotlib.axes._subplots.AxesSubplot at 0x2022c31dd60>"
      ]
     },
     "metadata": {},
     "execution_count": 33
    },
    {
     "output_type": "display_data",
     "data": {
      "image/png": "[encoded data removed]",
      "text/plain": [
       "<Figure size 432x288 with 2 Axes>"
      ]
     },
     "metadata": {
      "needs_background": "light"
     }
    }
   ],
   "metadata": {}
  },
  {
   "cell_type": "markdown",
   "source": [
    "## Predicciones en set no visto: Validación"
   ],
   "metadata": {}
  },
  {
   "cell_type": "code",
   "execution_count": 43,
   "source": [
    "validation_df = pd.read_csv(\"sports_Scoring.csv\")\r\n",
    "validation_df.head()"
   ],
   "outputs": [
    {
     "output_type": "execute_result",
     "data": {
      "text/html": [
       "<div>\n",
       "<style scoped>\n",
       "    .dataframe tbody tr th:only-of-type {\n",
       "        vertical-align: middle;\n",
       "    }\n",
       "\n",
       "    .dataframe tbody tr th {\n",
       "        vertical-align: top;\n",
       "    }\n",
       "\n",
       "    .dataframe thead th {\n",
       "        text-align: right;\n",
       "    }\n",
       "</style>\n",
       "<table border=\"1\" class=\"dataframe\">\n",
       "  <thead>\n",
       "    <tr style=\"text-align: right;\">\n",
       "      <th></th>\n",
       "      <th>Edad</th>\n",
       "      <th>Fuerza</th>\n",
       "      <th>Velocidad</th>\n",
       "      <th>Lesiones</th>\n",
       "      <th>Vision</th>\n",
       "      <th>Resistencia</th>\n",
       "      <th>Agilidad</th>\n",
       "      <th>CapacidadDecision</th>\n",
       "    </tr>\n",
       "  </thead>\n",
       "  <tbody>\n",
       "    <tr>\n",
       "      <th>0</th>\n",
       "      <td>18.5</td>\n",
       "      <td>5</td>\n",
       "      <td>1</td>\n",
       "      <td>1</td>\n",
       "      <td>0</td>\n",
       "      <td>5</td>\n",
       "      <td>33</td>\n",
       "      <td>61</td>\n",
       "    </tr>\n",
       "    <tr>\n",
       "      <th>1</th>\n",
       "      <td>13.3</td>\n",
       "      <td>1</td>\n",
       "      <td>2</td>\n",
       "      <td>1</td>\n",
       "      <td>3</td>\n",
       "      <td>5</td>\n",
       "      <td>18</td>\n",
       "      <td>59</td>\n",
       "    </tr>\n",
       "    <tr>\n",
       "      <th>2</th>\n",
       "      <td>13.4</td>\n",
       "      <td>2</td>\n",
       "      <td>1</td>\n",
       "      <td>0</td>\n",
       "      <td>2</td>\n",
       "      <td>5</td>\n",
       "      <td>40</td>\n",
       "      <td>11</td>\n",
       "    </tr>\n",
       "    <tr>\n",
       "      <th>3</th>\n",
       "      <td>13.6</td>\n",
       "      <td>4</td>\n",
       "      <td>1</td>\n",
       "      <td>0</td>\n",
       "      <td>0</td>\n",
       "      <td>5</td>\n",
       "      <td>28</td>\n",
       "      <td>0</td>\n",
       "    </tr>\n",
       "    <tr>\n",
       "      <th>4</th>\n",
       "      <td>16.3</td>\n",
       "      <td>3</td>\n",
       "      <td>1</td>\n",
       "      <td>0</td>\n",
       "      <td>2</td>\n",
       "      <td>5</td>\n",
       "      <td>32</td>\n",
       "      <td>35</td>\n",
       "    </tr>\n",
       "  </tbody>\n",
       "</table>\n",
       "</div>"
      ],
      "text/plain": [
       "   Edad  Fuerza  Velocidad  Lesiones  Vision  Resistencia  Agilidad  \\\n",
       "0  18.5       5          1         1       0            5        33   \n",
       "1  13.3       1          2         1       3            5        18   \n",
       "2  13.4       2          1         0       2            5        40   \n",
       "3  13.6       4          1         0       0            5        28   \n",
       "4  16.3       3          1         0       2            5        32   \n",
       "\n",
       "   CapacidadDecision  \n",
       "0                 61  \n",
       "1                 59  \n",
       "2                 11  \n",
       "3                  0  \n",
       "4                 35  "
      ]
     },
     "metadata": {},
     "execution_count": 43
    }
   ],
   "metadata": {}
  },
  {
   "cell_type": "code",
   "execution_count": 44,
   "source": [
    "# Hacemos las transformaciones necesarias -> hacer que Capacidad_decision contenga el rango correcto de valores\r\n",
    "validation_df = validation_df[(validation_df['CapacidadDecision'] >= 3) &\r\n",
    " (validation_df['CapacidadDecision'] <= 100)]\r\n",
    "validation_df.describe()"
   ],
   "outputs": [
    {
     "output_type": "execute_result",
     "data": {
      "text/html": [
       "<div>\n",
       "<style scoped>\n",
       "    .dataframe tbody tr th:only-of-type {\n",
       "        vertical-align: middle;\n",
       "    }\n",
       "\n",
       "    .dataframe tbody tr th {\n",
       "        vertical-align: top;\n",
       "    }\n",
       "\n",
       "    .dataframe thead th {\n",
       "        text-align: right;\n",
       "    }\n",
       "</style>\n",
       "<table border=\"1\" class=\"dataframe\">\n",
       "  <thead>\n",
       "    <tr style=\"text-align: right;\">\n",
       "      <th></th>\n",
       "      <th>Edad</th>\n",
       "      <th>Fuerza</th>\n",
       "      <th>Velocidad</th>\n",
       "      <th>Lesiones</th>\n",
       "      <th>Vision</th>\n",
       "      <th>Resistencia</th>\n",
       "      <th>Agilidad</th>\n",
       "      <th>CapacidadDecision</th>\n",
       "    </tr>\n",
       "  </thead>\n",
       "  <tbody>\n",
       "    <tr>\n",
       "      <th>count</th>\n",
       "      <td>1767.000000</td>\n",
       "      <td>1767.000000</td>\n",
       "      <td>1767.000000</td>\n",
       "      <td>1767.000000</td>\n",
       "      <td>1767.000000</td>\n",
       "      <td>1767.000000</td>\n",
       "      <td>1767.000000</td>\n",
       "      <td>1767.000000</td>\n",
       "    </tr>\n",
       "    <tr>\n",
       "      <th>mean</th>\n",
       "      <td>15.982513</td>\n",
       "      <td>3.567063</td>\n",
       "      <td>1.987550</td>\n",
       "      <td>0.664969</td>\n",
       "      <td>1.599887</td>\n",
       "      <td>3.736276</td>\n",
       "      <td>34.013016</td>\n",
       "      <td>29.946237</td>\n",
       "    </tr>\n",
       "    <tr>\n",
       "      <th>std</th>\n",
       "      <td>1.729906</td>\n",
       "      <td>1.479915</td>\n",
       "      <td>1.551992</td>\n",
       "      <td>0.472135</td>\n",
       "      <td>1.188402</td>\n",
       "      <td>1.366378</td>\n",
       "      <td>12.299599</td>\n",
       "      <td>21.116807</td>\n",
       "    </tr>\n",
       "    <tr>\n",
       "      <th>min</th>\n",
       "      <td>13.000000</td>\n",
       "      <td>0.000000</td>\n",
       "      <td>0.000000</td>\n",
       "      <td>0.000000</td>\n",
       "      <td>0.000000</td>\n",
       "      <td>0.000000</td>\n",
       "      <td>13.000000</td>\n",
       "      <td>3.000000</td>\n",
       "    </tr>\n",
       "    <tr>\n",
       "      <th>25%</th>\n",
       "      <td>14.500000</td>\n",
       "      <td>3.000000</td>\n",
       "      <td>1.000000</td>\n",
       "      <td>0.000000</td>\n",
       "      <td>0.000000</td>\n",
       "      <td>3.000000</td>\n",
       "      <td>24.000000</td>\n",
       "      <td>11.000000</td>\n",
       "    </tr>\n",
       "    <tr>\n",
       "      <th>50%</th>\n",
       "      <td>16.000000</td>\n",
       "      <td>4.000000</td>\n",
       "      <td>1.000000</td>\n",
       "      <td>1.000000</td>\n",
       "      <td>2.000000</td>\n",
       "      <td>3.000000</td>\n",
       "      <td>32.000000</td>\n",
       "      <td>29.000000</td>\n",
       "    </tr>\n",
       "    <tr>\n",
       "      <th>75%</th>\n",
       "      <td>17.400000</td>\n",
       "      <td>4.000000</td>\n",
       "      <td>2.000000</td>\n",
       "      <td>1.000000</td>\n",
       "      <td>3.000000</td>\n",
       "      <td>5.000000</td>\n",
       "      <td>43.000000</td>\n",
       "      <td>44.000000</td>\n",
       "    </tr>\n",
       "    <tr>\n",
       "      <th>max</th>\n",
       "      <td>19.000000</td>\n",
       "      <td>7.000000</td>\n",
       "      <td>6.000000</td>\n",
       "      <td>1.000000</td>\n",
       "      <td>3.000000</td>\n",
       "      <td>6.000000</td>\n",
       "      <td>80.000000</td>\n",
       "      <td>100.000000</td>\n",
       "    </tr>\n",
       "  </tbody>\n",
       "</table>\n",
       "</div>"
      ],
      "text/plain": [
       "              Edad       Fuerza    Velocidad     Lesiones       Vision  \\\n",
       "count  1767.000000  1767.000000  1767.000000  1767.000000  1767.000000   \n",
       "mean     15.982513     3.567063     1.987550     0.664969     1.599887   \n",
       "std       1.729906     1.479915     1.551992     0.472135     1.188402   \n",
       "min      13.000000     0.000000     0.000000     0.000000     0.000000   \n",
       "25%      14.500000     3.000000     1.000000     0.000000     0.000000   \n",
       "50%      16.000000     4.000000     1.000000     1.000000     2.000000   \n",
       "75%      17.400000     4.000000     2.000000     1.000000     3.000000   \n",
       "max      19.000000     7.000000     6.000000     1.000000     3.000000   \n",
       "\n",
       "       Resistencia     Agilidad  CapacidadDecision  \n",
       "count  1767.000000  1767.000000        1767.000000  \n",
       "mean      3.736276    34.013016          29.946237  \n",
       "std       1.366378    12.299599          21.116807  \n",
       "min       0.000000    13.000000           3.000000  \n",
       "25%       3.000000    24.000000          11.000000  \n",
       "50%       3.000000    32.000000          29.000000  \n",
       "75%       5.000000    43.000000          44.000000  \n",
       "max       6.000000    80.000000         100.000000  "
      ]
     },
     "metadata": {},
     "execution_count": 44
    }
   ],
   "metadata": {}
  },
  {
   "cell_type": "code",
   "execution_count": 45,
   "source": [
    "validation_df.columns"
   ],
   "outputs": [
    {
     "output_type": "execute_result",
     "data": {
      "text/plain": [
       "Index(['Edad', 'Fuerza', 'Velocidad', 'Lesiones', 'Vision', 'Resistencia',\n",
       "       'Agilidad', 'CapacidadDecision'],\n",
       "      dtype='object')"
      ]
     },
     "metadata": {},
     "execution_count": 45
    }
   ],
   "metadata": {}
  },
  {
   "cell_type": "code",
   "execution_count": 50,
   "source": [
    "y_pred = lda.predict(validation_df.to_numpy())"
   ],
   "outputs": [],
   "metadata": {}
  },
  {
   "cell_type": "code",
   "execution_count": 52,
   "source": [
    "print(y_pred)"
   ],
   "outputs": [
    {
     "output_type": "stream",
     "name": "stdout",
     "text": [
      "[0 2 1 ... 1 0 1]\n"
     ]
    }
   ],
   "metadata": {}
  }
 ],
 "metadata": {
  "orig_nbformat": 4,
  "language_info": {
   "name": "python",
   "version": "3.8.2",
   "mimetype": "text/x-python",
   "codemirror_mode": {
    "name": "ipython",
    "version": 3
   },
   "pygments_lexer": "ipython3",
   "nbconvert_exporter": "python",
   "file_extension": ".py"
  },
  "kernelspec": {
   "name": "python3",
   "display_name": "Python 3.8.2 64-bit"
  },
  "interpreter": {
   "hash": "2db524e06e9f5f4ffedc911c917cb75e12dbc923643829bf417064a77eb14d37"
  }
 },
 "nbformat": 4,
 "nbformat_minor": 2
}